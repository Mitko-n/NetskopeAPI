{
 "cells": [
  {
   "cell_type": "code",
   "execution_count": 1,
   "metadata": {},
   "outputs": [],
   "source": [
    "# Import necessary libraries\n",
    "import json\n",
    "from NetskopeAPI import Scim\n",
    "\n",
    "# Load client information from a credentials file\n",
    "client_info_path = \".\\\\Credentials\\\\netskope_api_credential.json\"\n",
    "with open(client_info_path) as f:\n",
    "    client_info = json.load(f)\n",
    "\n",
    "# Define constants for tenant, base URL, and authentication token\n",
    "TENANT = client_info[\"TENANT\"]\n",
    "BASE_URL = f\"https://{TENANT}.goskope.com/api/v2\"\n",
    "AUTH_TOKEN = client_info[\"AUTH_TOKEN\"]\n",
    "\n",
    "# Example usage: Create a Scim client\n",
    "scim = Scim(base_url=BASE_URL, auth_token=AUTH_TOKEN)"
   ]
  },
  {
   "cell_type": "code",
   "execution_count": null,
   "metadata": {},
   "outputs": [],
   "source": [
    "# Example 1: Create a new user\n",
    "data = {\n",
    "    \"schemas\": [\"urn:ietf:params:scim:schemas:core:2.0:User\"],\n",
    "    \"userName\": \"upn1\",\n",
    "    \"name\": {\"familyName\": \"last_name\", \"givenName\": \"first_name\"},\n",
    "    \"active\": True,\n",
    "    \"emails\": [{\"value\": \"email1@netskope.local\", \"primary\": True}],\n",
    "    \"externalId\": \"User-Ext_id\",\n",
    "    \"meta\": {\"resourceType\": \"User\"},\n",
    "}\n",
    "response = scim.create_user(data)\n",
    "print(\"Create User Response:\")\n",
    "print(json.dumps(response, indent=4))\n",
    "\n",
    "new_user_id = response[\"data\"][\"id\"]"
   ]
  },
  {
   "cell_type": "code",
   "execution_count": null,
   "metadata": {},
   "outputs": [],
   "source": [
    "# Example 2: Read all users\n",
    "response = scim.read_users()\n",
    "print(\"Read Users Response:\")\n",
    "print(json.dumps(response, indent=4))"
   ]
  },
  {
   "cell_type": "code",
   "execution_count": null,
   "metadata": {},
   "outputs": [],
   "source": [
    "# Example 3: Replace user\n",
    "data = {\n",
    "    \"schemas\": [\"urn:ietf:params:scim:schemas:core:2.0:User\"],\n",
    "    \"userName\": \"upn1\",\n",
    "    \"name\": {\"familyName\": \"last_name\", \"givenName\": \"first_name\"},\n",
    "    \"active\": True,\n",
    "    \"emails\": [{\"value\": \"email1@netskope.local\", \"primary\": True}],\n",
    "    \"externalId\": \"User-Ext_id\",\n",
    "    \"meta\": {\"resourceType\": \"User\"},\n",
    "}\n",
    "response = scim.replace_user(new_user_id, data)\n",
    "print(f\"Replace User {new_user_id} Response:\")\n",
    "print(json.dumps(response, indent=4))"
   ]
  },
  {
   "cell_type": "code",
   "execution_count": null,
   "metadata": {},
   "outputs": [],
   "source": [
    "# Example 4: Read a specific user\n",
    "response = scim.read_user(new_user_id)\n",
    "print(f\"Read User {new_user_id} Response:\")\n",
    "print(json.dumps(response, indent=4))"
   ]
  },
  {
   "cell_type": "code",
   "execution_count": null,
   "metadata": {},
   "outputs": [],
   "source": [
    "# Example 5: Update a user (demonstrate update)\n",
    "\n",
    "data = {\n",
    "    \"schemas\": [\"urn:ietf:params:scim:api:messages:2.0:PatchOp\"],\n",
    "    \"Operations\": [\n",
    "        {\n",
    "            \"path\": \"userName\",\n",
    "            \"op\": \"add\",\n",
    "            \"value\": {\"value\": \"new_upn\"},\n",
    "        },\n",
    "    ],\n",
    "}\n",
    "response = scim.update_user(new_user_id, data)\n",
    "print(f\"Update User {new_user_id} Response:\")\n",
    "print(json.dumps(response, indent=4))"
   ]
  },
  {
   "cell_type": "code",
   "execution_count": null,
   "metadata": {},
   "outputs": [],
   "source": [
    "# Example 6: Delete a user\n",
    "response = scim.delete_user(new_user_id)\n",
    "print(f\"Delete User {new_user_id} Response:\")\n",
    "print(json.dumps(response, indent=4))"
   ]
  },
  {
   "cell_type": "code",
   "execution_count": null,
   "metadata": {},
   "outputs": [],
   "source": [
    "# Example 7: Create a new group\n",
    "data = {\n",
    "    \"schemas\": [\"urn:ietf:params:scim:schemas:core:2.0:Group\"],\n",
    "    \"displayName\": \"sample_group1\",\n",
    "    \"members\": [{\"value\": \"xxxxxxxx-xxxx-xxxx-xxxx-xxxxxxxxxxxx\"}],\n",
    "    \"externalId\": \"Group-Ext_id\",\n",
    "    \"meta\": {\"resourceType\": \"Group\"},\n",
    "}\n",
    "response = scim.create_group(data)\n",
    "print(\"Create Group Response:\")\n",
    "print(json.dumps(response, indent=4))\n",
    "\n",
    "new_group_id = response[\"data\"][\"id\"]"
   ]
  },
  {
   "cell_type": "code",
   "execution_count": null,
   "metadata": {},
   "outputs": [],
   "source": [
    "# Example 8: Read all groups\n",
    "response = scim.read_groups()\n",
    "print(\"Read Groups Response:\")\n",
    "print(json.dumps(response, indent=4))"
   ]
  },
  {
   "cell_type": "code",
   "execution_count": null,
   "metadata": {},
   "outputs": [],
   "source": [
    "# Example 9: Replace Group\n",
    "data = {\n",
    "    \"schemas\": [\"urn:ietf:params:scim:schemas:core:2.0:Group\"],\n",
    "    \"displayName\": \"sample_group1\",\n",
    "    \"members\": [{\"value\": \"xxxxxxxx-xxxx-xxxx-xxxx-xxxxxxxxxxxx\"}],\n",
    "    \"externalId\": \"Group-Ext_id\",\n",
    "    \"meta\": {\"resourceType\": \"Group\"},\n",
    "}\n",
    "scim.replace_group(new_group_id, data)"
   ]
  },
  {
   "cell_type": "code",
   "execution_count": null,
   "metadata": {},
   "outputs": [],
   "source": [
    "# Example 10: Read a specific group\n",
    "response = scim.read_group(new_group_id)\n",
    "print(f\"Read Group {new_group_id} Response:\")\n",
    "print(json.dumps(response, indent=4))"
   ]
  },
  {
   "cell_type": "code",
   "execution_count": null,
   "metadata": {},
   "outputs": [],
   "source": [
    "# Example 11: Update a group\n",
    "data = {\n",
    "    \"schemas\": [\"urn:ietf:params:scim:api:messages:2.0:PatchOp\"],\n",
    "    \"Operations\": [\n",
    "        {\n",
    "            \"path\": \"members\",\n",
    "            \"op\": \"add\",\n",
    "            \"value\": {\"value\": \"xxxxxxxx-xxxx-xxxx-xxxx-xxxxxxxxxxxx\"},\n",
    "        }\n",
    "    ],\n",
    "}\n",
    "response = scim.update_group(new_group_id, data)\n",
    "print(f\"Update Group {new_group_id} Response:\")\n",
    "print(json.dumps(response, indent=4))"
   ]
  },
  {
   "cell_type": "code",
   "execution_count": null,
   "metadata": {},
   "outputs": [],
   "source": [
    "# Example 12: Delete a group\n",
    "response = scim.delete_group(new_group_id)\n",
    "print(f\"Delete Group {new_group_id} Response:\")\n",
    "print(json.dumps(response, indent=4))"
   ]
  },
  {
   "cell_type": "code",
   "execution_count": null,
   "metadata": {},
   "outputs": [],
   "source": [
    "# Example 13: Using context management\n",
    "with Scim(base_url=BASE_URL, auth_token=AUTH_TOKEN) as scim:\n",
    "    response = scim.read_users()\n",
    "    print(\"Read Users Response (with context management):\")\n",
    "    print(json.dumps(response, indent=4))"
   ]
  },
  {
   "cell_type": "code",
   "execution_count": null,
   "metadata": {},
   "outputs": [],
   "source": [
    "# Example 14: Using explicit session close\n",
    "scim = Scim(base_url=BASE_URL, auth_token=AUTH_TOKEN)\n",
    "try:\n",
    "    response = scim.read_users()\n",
    "    print(\"Read Users Response (explicit close):\")\n",
    "    print(json.dumps(response, indent=4))\n",
    "finally:\n",
    "    scim.close()  # Ensures that resources are closed or freed regardless of the outcome"
   ]
  }
 ],
 "metadata": {
  "kernelspec": {
   "display_name": "Python 3",
   "language": "python",
   "name": "python3"
  },
  "language_info": {
   "codemirror_mode": {
    "name": "ipython",
    "version": 3
   },
   "file_extension": ".py",
   "mimetype": "text/x-python",
   "name": "python",
   "nbconvert_exporter": "python",
   "pygments_lexer": "ipython3",
   "version": "3.12.6"
  }
 },
 "nbformat": 4,
 "nbformat_minor": 2
}
