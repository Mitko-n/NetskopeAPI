{
 "cells": [
  {
   "cell_type": "code",
   "execution_count": 2,
   "metadata": {},
   "outputs": [],
   "source": [
    "# Import necessary libraries\n",
    "import json\n",
    "from NetskopeAPI import Scim\n",
    "\n",
    "# Load client information from a credentials file\n",
    "client_info_path = \".\\\\Credentials\\\\netskope_api_credential.json\"\n",
    "with open(client_info_path) as f:\n",
    "    client_info = json.load(f)\n",
    "\n",
    "# Define constants for tenant, base URL, and authentication token\n",
    "TENANT = client_info[\"TENANT\"]\n",
    "BASE_URL = f\"https://{TENANT}.goskope.com/api/v2\"\n",
    "AUTH_TOKEN = client_info[\"AUTH_TOKEN\"]\n",
    "\n",
    "# Example usage: Create a Scim client\n",
    "scim_client = Scim(base_url=BASE_URL, auth_token=AUTH_TOKEN)"
   ]
  },
  {
   "cell_type": "code",
   "execution_count": null,
   "metadata": {},
   "outputs": [],
   "source": [
    "# Example 1: Create a new user\n",
    "new_user_data = {\n",
    "    \"schemas\": [\"urn:ietf:params:scim:schemas:core:2.0:User\"],\n",
    "    \"userName\": \"netskope.test.new@outlook.com\",\n",
    "    \"name\": {\n",
    "        \"familyName\": \"Netskope\",\n",
    "        \"givenName\": \"Test\",\n",
    "    },\n",
    "    \"active\": True,\n",
    "    \"emails\": [\n",
    "        {\n",
    "            \"value\": \"netskope.test.new@outlook.com\",\n",
    "            \"primary\": True,\n",
    "        }\n",
    "    ],\n",
    "}\n",
    "response = scim_client.create_user(data=new_user_data)\n",
    "print(\"Create User Response:\")\n",
    "print(json.dumps(response, indent=4))\n",
    "\n",
    "new_user_id = response[\"data\"][\"id\"]"
   ]
  },
  {
   "cell_type": "code",
   "execution_count": null,
   "metadata": {},
   "outputs": [],
   "source": [
    "# Example 2: Read all users\n",
    "response = scim_client.read_users()\n",
    "print(\"Read Users Response:\")\n",
    "print(json.dumps(response, indent=4))"
   ]
  },
  {
   "cell_type": "code",
   "execution_count": null,
   "metadata": {},
   "outputs": [],
   "source": [
    "# Example 3: Read a specific user\n",
    "response = scim_client.read_user(new_user_id)\n",
    "print(f\"Read User {new_user_id} Response:\")\n",
    "print(json.dumps(response, indent=4))"
   ]
  },
  {
   "cell_type": "code",
   "execution_count": null,
   "metadata": {},
   "outputs": [],
   "source": [
    "# Example 4: Update a user (demonstrate update)\n",
    "\n",
    "updated_user_data = {\n",
    "  \"Operations\": [\n",
    "    {\n",
    "      \"op\": \"add\",\n",
    "      \"path\": \"userName\",\n",
    "      \"value\": {\n",
    "        \"value\": \"new_upn\"\n",
    "      }\n",
    "    }\n",
    "  ],\n",
    "  \"schemas\": [\n",
    "    \"urn:ietf:params:scim:api:messages:2.0:PatchOp\"\n",
    "  ]\n",
    "}\n",
    "response = scim_client.update_user(new_user_id, data=updated_user_data)\n",
    "print(f\"Update User {new_user_id} Response:\")\n",
    "print(json.dumps(response, indent=4))"
   ]
  },
  {
   "cell_type": "code",
   "execution_count": null,
   "metadata": {},
   "outputs": [],
   "source": [
    "# Example 5: Delete a user\n",
    "response = scim_client.delete_user(new_user_id)\n",
    "print(f\"Delete User {new_user_id} Response:\")\n",
    "print(json.dumps(response, indent=4))"
   ]
  },
  {
   "cell_type": "code",
   "execution_count": null,
   "metadata": {},
   "outputs": [],
   "source": [
    "# Example 6: Create a new group\n",
    "new_group_data = {\n",
    "    \"schemas\": [\"urn:ietf:params:scim:schemas:core:2.0:Group\"],\n",
    "    \"displayName\": \"Test Group\",\n",
    "}\n",
    "response = scim_client.create_group(data=new_group_data)\n",
    "print(\"Create Group Response:\")\n",
    "print(json.dumps(response, indent=4))\n",
    "\n",
    "new_group_id = response[\"data\"][\"id\"]"
   ]
  },
  {
   "cell_type": "code",
   "execution_count": null,
   "metadata": {},
   "outputs": [],
   "source": [
    "# Example 7: Read all groups\n",
    "response = scim_client.read_groups()\n",
    "print(\"Read Groups Response:\")\n",
    "print(json.dumps(response, indent=4))\n"
   ]
  },
  {
   "cell_type": "code",
   "execution_count": null,
   "metadata": {},
   "outputs": [],
   "source": [
    "# Example 8: Read a specific group\n",
    "response = scim_client.read_group(new_group_id)\n",
    "print(f\"Read Group {new_group_id} Response:\")\n",
    "print(json.dumps(response, indent=4))"
   ]
  },
  {
   "cell_type": "code",
   "execution_count": null,
   "metadata": {},
   "outputs": [],
   "source": [
    "# Example 9: Update a group\n",
    "\n",
    "\n",
    "\n",
    "updated_group_data = {\n",
    "  \"Operations\": [\n",
    "    {\n",
    "      \"op\": \"add\",\n",
    "      \"path\": \"members\",\n",
    "      \"value\": {\n",
    "        \"value\": {\n",
    "          \"value\": \"xxxxxxxx-xxxx-xxxx-xxxx-xxxxxxxxxxxx\"\n",
    "        }\n",
    "      }\n",
    "    }\n",
    "  ],\n",
    "  \"schemas\": [\n",
    "    \"urn:ietf:params:scim:api:messages:2.0:PatchOp\"\n",
    "  ]\n",
    "}\n",
    "response = scim_client.update_group(new_group_id, data=updated_group_data)\n",
    "print(f\"Update Group {new_group_id} Response:\")\n",
    "print(json.dumps(response, indent=4))"
   ]
  },
  {
   "cell_type": "code",
   "execution_count": null,
   "metadata": {},
   "outputs": [],
   "source": [
    "# Example 10: Delete a group\n",
    "response = scim_client.delete_group(new_group_id)\n",
    "print(f\"Delete Group {new_group_id} Response:\")\n",
    "print(json.dumps(response, indent=4))"
   ]
  },
  {
   "cell_type": "code",
   "execution_count": null,
   "metadata": {},
   "outputs": [],
   "source": [
    "# Example 11: Using context management\n",
    "with Scim(base_url=BASE_URL, auth_token=AUTH_TOKEN) as scim_client:\n",
    "    response = scim_client.read_users()\n",
    "    print(\"Read Users Response (with context management):\")\n",
    "    print(json.dumps(response, indent=4))"
   ]
  },
  {
   "cell_type": "code",
   "execution_count": null,
   "metadata": {},
   "outputs": [],
   "source": [
    "# Example 12: Using explicit session close\n",
    "scim_client = Scim(base_url=BASE_URL, auth_token=AUTH_TOKEN)\n",
    "try:\n",
    "    response = scim_client.read_users()\n",
    "    print(\"Read Users Response (explicit close):\")\n",
    "    print(json.dumps(response, indent=4))\n",
    "finally:\n",
    "    scim_client.close()  # Ensures that resources are closed or freed regardless of the outcome\n"
   ]
  }
 ],
 "metadata": {
  "kernelspec": {
   "display_name": "Python 3",
   "language": "python",
   "name": "python3"
  },
  "language_info": {
   "codemirror_mode": {
    "name": "ipython",
    "version": 3
   },
   "file_extension": ".py",
   "mimetype": "text/x-python",
   "name": "python",
   "nbconvert_exporter": "python",
   "pygments_lexer": "ipython3",
   "version": "3.12.6"
  }
 },
 "nbformat": 4,
 "nbformat_minor": 2
}
