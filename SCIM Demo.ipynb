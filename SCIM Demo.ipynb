{
 "cells": [
  {
   "cell_type": "code",
   "execution_count": 1,
   "metadata": {},
   "outputs": [],
   "source": [
    "# Import necessary libraries\n",
    "import json\n",
    "from NetskopeAPI import Scim\n",
    "\n",
    "# Load client information from a credentials file\n",
    "client_info_path = \".\\\\Credentials\\\\netskope_api_credential.json\"\n",
    "with open(client_info_path) as f:\n",
    "    client_info = json.load(f)\n",
    "\n",
    "# Define constants for tenant, base URL, and authentication token\n",
    "TENANT = client_info[\"TENANT\"]\n",
    "BASE_URL = f\"https://{TENANT}.goskope.com/api/v2\"\n",
    "AUTH_TOKEN = client_info[\"AUTH_TOKEN\"]\n",
    "\n",
    "# Example usage: Create a Scim client\n",
    "scim_client = Scim(base_url=BASE_URL, auth_token=AUTH_TOKEN)"
   ]
  },
  {
   "cell_type": "code",
   "execution_count": null,
   "metadata": {},
   "outputs": [],
   "source": [
    "# Example 1: Get all users\n",
    "response = scim_client.get_users(display_output=False)\n",
    "print(\"Get Users Response:\")\n",
    "print(json.dumps(response, indent=4))"
   ]
  },
  {
   "cell_type": "code",
   "execution_count": null,
   "metadata": {},
   "outputs": [],
   "source": [
    "# Example 2: Get a specific user\n",
    "user_id = \"7000928d-2f24-4234-a7e9-e20492f79ba1\"\n",
    "response = scim_client.get_user(user_id, display_output=False)\n",
    "print(f\"Get User {user_id} Response:\")\n",
    "print(json.dumps(response, indent=4))"
   ]
  },
  {
   "cell_type": "code",
   "execution_count": null,
   "metadata": {},
   "outputs": [],
   "source": [
    "# Example 3: Get all groups with display output\n",
    "response = scim_client.get_groups(display_output=True)\n",
    "print(\"Get Groups Response:\")\n",
    "print(json.dumps(response, indent=4))"
   ]
  },
  {
   "cell_type": "code",
   "execution_count": null,
   "metadata": {},
   "outputs": [],
   "source": [
    "# Example 4: Get a specific group with and without display output\n",
    "group_id = \"0c98814d-4a28-4f44-9d8e-2f0ffd078e1e\"\n",
    "response = scim_client.get_group(group_id, display_output=True)\n",
    "print(f\"Get Group {group_id} Response (with output):\")\n",
    "print(json.dumps(response, indent=4))"
   ]
  },
  {
   "cell_type": "code",
   "execution_count": null,
   "metadata": {},
   "outputs": [],
   "source": [
    "# Example 5: Create a new user\n",
    "new_user_data = {\n",
    "    \"schemas\": [\"urn:ietf:params:scim:schemas:core:2.0:User\"],\n",
    "    \"userName\": \"api2.test\",\n",
    "    \"name\": {\n",
    "        \"familyName\": \"Test\",\n",
    "        \"givenName\": \"API2\",\n",
    "    },\n",
    "    \"active\": True,\n",
    "    \"emails\": [\n",
    "        {\n",
    "            \"value\": \"api2.test@test.local\",\n",
    "            \"primary\": True,\n",
    "        }\n",
    "    ],\n",
    "}\n",
    "response = scim_client.create_user(data=new_user_data, display_output=False)\n",
    "print(\"Create User Response:\")\n",
    "print(json.dumps(response, indent=4))\n",
    "\n",
    "new_user_id = response['data']['id']"
   ]
  },
  {
   "cell_type": "code",
   "execution_count": null,
   "metadata": {},
   "outputs": [],
   "source": [
    "# Example 6: Get the newly created user\n",
    "# new_user_id = '9096c3e4-1682-443b-8d6c-3766e58a71c0'  # Use the ID returned from creation\n",
    "response = scim_client.get_user(new_user_id, display_output=False)\n",
    "print(f\"Get New User {new_user_id} Response:\")\n",
    "print(json.dumps(response, indent=4))"
   ]
  },
  {
   "cell_type": "code",
   "execution_count": null,
   "metadata": {},
   "outputs": [],
   "source": [
    "# Example 7: Delete a user\n",
    "response = scim_client.delete_user(new_user_id)\n",
    "print(f\"Delete User {new_user_id} Response:\")\n",
    "print(json.dumps(response, indent=4))\n"
   ]
  },
  {
   "cell_type": "code",
   "execution_count": null,
   "metadata": {},
   "outputs": [],
   "source": [
    "# Example 8: Using context management\n",
    "with Scim(base_url=BASE_URL, auth_token=AUTH_TOKEN) as scim_client:\n",
    "    response = scim_client.get_users(display_output=False)\n",
    "    print(\"Get Users Response (with context management):\")\n",
    "    print(json.dumps(response, indent=4))"
   ]
  },
  {
   "cell_type": "code",
   "execution_count": null,
   "metadata": {},
   "outputs": [],
   "source": [
    "# Example 9: Using explicit session close\n",
    "scim_client = Scim(base_url=BASE_URL, auth_token=AUTH_TOKEN)\n",
    "try:\n",
    "    response = scim_client.get_users(display_output=False)\n",
    "    print(\"Get Users Response (explicit close):\")\n",
    "    print(json.dumps(response, indent=4))\n",
    "finally:\n",
    "    scim_client.close()  # Ensures that resources are closed or freed regardless of the outcome\n"
   ]
  }
 ],
 "metadata": {
  "kernelspec": {
   "display_name": "Python 3",
   "language": "python",
   "name": "python3"
  },
  "language_info": {
   "codemirror_mode": {
    "name": "ipython",
    "version": 3
   },
   "file_extension": ".py",
   "mimetype": "text/x-python",
   "name": "python",
   "nbconvert_exporter": "python",
   "pygments_lexer": "ipython3",
   "version": "3.12.6"
  }
 },
 "nbformat": 4,
 "nbformat_minor": 2
}
