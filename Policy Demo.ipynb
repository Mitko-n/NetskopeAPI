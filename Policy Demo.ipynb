{
 "cells": [
  {
   "cell_type": "code",
   "execution_count": null,
   "metadata": {},
   "outputs": [],
   "source": [
    "import json\n",
    "from NetskopeAPI import Policy\n",
    "\n",
    "# Load client information from the credentials file\n",
    "client_info_path = \".\\\\Credentials\\\\netskope_api_credential.json\"\n",
    "with open(client_info_path) as f:\n",
    "    client_info = json.load(f)\n",
    "\n",
    "# Define constants for tenant, base URL, and authentication token\n",
    "TENANT = client_info[\"TENANT\"]\n",
    "BASE_URL = f\"https://{TENANT}.goskope.com/api/v2\"\n",
    "AUTH_TOKEN = client_info[\"AUTH_TOKEN\"]\n",
    "\n",
    "# Use the Policy client within a context manager to ensure proper resource management\n",
    "with Policy(base_url=BASE_URL, auth_token=AUTH_TOKEN) as policy_client:\n",
    "    # Fetch all URL lists and print them in a formatted JSON structure\n",
    "    urls = policy_client.read_all_url_lists()\n",
    "    print(\"All URL Lists:\")\n",
    "    print(json.dumps(urls, indent=4))\n",
    "\n",
    "    # Fetch and print each URL list individually in a formatted JSON structure\n",
    "    url_lists = urls.get('data', [])\n",
    "    for url in url_lists:\n",
    "        print(\"URL List:\")\n",
    "        print(json.dumps(url, indent=4))\n",
    "\n",
    "    # Fetch and print all NPA policies in a formatted JSON structure\n",
    "    npa_policies = policy_client.read_npa_policies()\n",
    "    print(\"NPA Policies:\")\n",
    "    print(json.dumps(npa_policies, indent=4))\n"
   ]
  }
 ],
 "metadata": {
  "kernelspec": {
   "display_name": "Python 3",
   "language": "python",
   "name": "python3"
  },
  "language_info": {
   "codemirror_mode": {
    "name": "ipython",
    "version": 3
   },
   "file_extension": ".py",
   "mimetype": "text/x-python",
   "name": "python",
   "nbconvert_exporter": "python",
   "pygments_lexer": "ipython3",
   "version": "3.12.6"
  }
 },
 "nbformat": 4,
 "nbformat_minor": 2
}
