{
 "cells": [
  {
   "cell_type": "code",
   "execution_count": 1,
   "metadata": {},
   "outputs": [],
   "source": [
    "# Import necessary libraries\n",
    "import json\n",
    "from NetskopeAPI import Policy\n",
    "\n",
    "# Load client information from a credentials file\n",
    "client_info_path = \".\\\\Credentials\\\\netskope_api_credential.json\"\n",
    "with open(client_info_path) as f:\n",
    "    client_info = json.load(f)\n",
    "\n",
    "# Define constants for tenant, base URL, and authentication token\n",
    "TENANT = client_info[\"TENANT\"]\n",
    "BASE_URL = f\"https://{TENANT}.goskope.com/api/v2\"\n",
    "AUTH_TOKEN = client_info[\"AUTH_TOKEN\"]\n",
    "\n",
    "# Example usage: Create a Scim client\n",
    "policy = Policy(base_url=BASE_URL, auth_token=AUTH_TOKEN)"
   ]
  },
  {
   "cell_type": "code",
   "execution_count": null,
   "metadata": {},
   "outputs": [],
   "source": [
    "# URL List Methods - Create\n",
    "data = {\n",
    "    \"name\": \"New string\",\n",
    "    \"data\": {\"urls\": [\"www.test.com\"], \"type\": \"exact\"},\n",
    "}\n",
    "response = policy.create_url_list(data)\n",
    "print(\"URL List Methods - Create Response:\")\n",
    "print(json.dumps(response, indent=4))\n",
    "\n",
    "list_id = response[\"data\"][0][\"id\"]"
   ]
  },
  {
   "cell_type": "code",
   "execution_count": null,
   "metadata": {},
   "outputs": [],
   "source": [
    "# URL List Methods - Read all\n",
    "policy.read_all_url_lists()"
   ]
  },
  {
   "cell_type": "code",
   "execution_count": null,
   "metadata": {},
   "outputs": [],
   "source": [
    "# URL List Methods - Read allcpecific URL List\n",
    "policy.read_url_list(list_id)"
   ]
  },
  {
   "cell_type": "code",
   "execution_count": null,
   "metadata": {},
   "outputs": [],
   "source": [
    "# URL List Methods - Update\n",
    "data = {\n",
    "    \"name\": \"New string\",\n",
    "    \"data\": {\"urls\": [\"www.test.com\"], \"type\": \"exact\"},\n",
    "}\n",
    "action = \"replace\"\n",
    "# action = \"append\"\n",
    "\n",
    "policy.update_url_list(list_id, action, data)"
   ]
  },
  {
   "cell_type": "code",
   "execution_count": null,
   "metadata": {},
   "outputs": [],
   "source": [
    "# URL List Methods - Delete\n",
    "policy.delete_url_list(list_id)"
   ]
  },
  {
   "cell_type": "code",
   "execution_count": null,
   "metadata": {},
   "outputs": [],
   "source": [
    "# URL List Methods - Replace\n",
    "data = {\n",
    "    \"name\": \"new string\",\n",
    "    \"data\": {\"urls\": [\"www.test.com\"], \"type\": \"exact\"},\n",
    "}\n",
    "policy.replace_url_list(list_id, data)"
   ]
  },
  {
   "cell_type": "code",
   "execution_count": null,
   "metadata": {},
   "outputs": [],
   "source": [
    "# URL List Methods - Upload URL List Config\n",
    "policy.upload_url_list_config(file_path)"
   ]
  },
  {
   "cell_type": "code",
   "execution_count": null,
   "metadata": {},
   "outputs": [],
   "source": [
    "# URL List Methods - Apply Pending URL Changes\n",
    "policy.apply_pending_url_changes()"
   ]
  }
 ],
 "metadata": {
  "kernelspec": {
   "display_name": "Python 3",
   "language": "python",
   "name": "python3"
  },
  "language_info": {
   "codemirror_mode": {
    "name": "ipython",
    "version": 3
   },
   "file_extension": ".py",
   "mimetype": "text/x-python",
   "name": "python",
   "nbconvert_exporter": "python",
   "pygments_lexer": "ipython3",
   "version": "3.12.6"
  }
 },
 "nbformat": 4,
 "nbformat_minor": 2
}
