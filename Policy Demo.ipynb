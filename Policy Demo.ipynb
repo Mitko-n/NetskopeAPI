{
 "cells": [
  {
   "cell_type": "code",
   "execution_count": 7,
   "metadata": {},
   "outputs": [],
   "source": [
    "# Import necessary libraries\n",
    "import json\n",
    "from NetskopeAPI import Policy\n",
    "\n",
    "client_info_path = \".\\\\Credentials\\\\netskope_api_credential.json\"\n",
    "client_info = json.load(open(client_info_path))\n",
    "\n",
    "# Define constants for tenant, base URL, and authentication token\n",
    "TENANT = client_info[\"TENANT\"]\n",
    "BASE_URL = f\"https://{TENANT}.goskope.com/api/v2\"\n",
    "AUTH_TOKEN = client_info[\"AUTH_TOKEN\"]"
   ]
  },
  {
   "cell_type": "code",
   "execution_count": null,
   "metadata": {},
   "outputs": [],
   "source": [
    "# Initialize the Policy client\n",
    "policy_client = Policy(base_url=BASE_URL, auth_token=AUTH_TOKEN)\n",
    "# Fetch all URL lists and print them in a formatted JSON structure\n",
    "urls = policy_client.get_all_url_lists(display_output=False)\n",
    "print(json.dumps(urls, indent=4))\n",
    "# Close the Policy client to release resources\n",
    "policy_client.close()"
   ]
  },
  {
   "cell_type": "code",
   "execution_count": null,
   "metadata": {},
   "outputs": [],
   "source": [
    "# Re-initialize the Policy client\n",
    "policy_client = Policy(base_url=BASE_URL, auth_token=AUTH_TOKEN)\n",
    "# Fetch and print each URL list individually in a formatted JSON structure\n",
    "for url in policy_client.get_all_url_lists(display_output=False)['data']:\n",
    "    print(json.dumps(url, indent=4))\n",
    "# Close the Policy client to release resources\n",
    "policy_client.close()"
   ]
  },
  {
   "cell_type": "code",
   "execution_count": null,
   "metadata": {},
   "outputs": [],
   "source": [
    "# Initialize the Policy client with the base URL and authentication token\n",
    "policy_client = Policy(base_url=BASE_URL, auth_token=AUTH_TOKEN)\n",
    "try:\n",
    "    # Attempt to retrieve all URL lists using the policy client\n",
    "    urls = policy_client.get_all_url_lists()\n",
    "    print(json.dumps(urls, indent=4))\n",
    "finally:\n",
    "    policy_client.close()  # Ensures that resources are closed or freed regardless of the outcome."
   ]
  },
  {
   "cell_type": "code",
   "execution_count": null,
   "metadata": {},
   "outputs": [],
   "source": [
    "# Use the Policy client within a context manager to ensure proper resource management\n",
    "with Policy(base_url=BASE_URL, auth_token=AUTH_TOKEN) as policy_client:\n",
    "    # Fetch all URL lists and print them in a formatted JSON structure\n",
    "    urls = policy_client.get_all_url_lists(display_output=False)\n",
    "    print(json.dumps(urls, indent=4))"
   ]
  },
  {
   "cell_type": "code",
   "execution_count": null,
   "metadata": {},
   "outputs": [],
   "source": [
    "# Use the Policy client within a context manager to ensure proper resource management\n",
    "with Policy(base_url=BASE_URL, auth_token=AUTH_TOKEN) as policy_client:\n",
    "    # Fetch all URL lists and print them in a formatted JSON structure\n",
    "    urls = policy_client.get_npa_policies(display_output=False)\n",
    "    print(json.dumps(urls, indent=4))"
   ]
  }
 ],
 "metadata": {
  "kernelspec": {
   "display_name": "Python 3",
   "language": "python",
   "name": "python3"
  },
  "language_info": {
   "codemirror_mode": {
    "name": "ipython",
    "version": 3
   },
   "file_extension": ".py",
   "mimetype": "text/x-python",
   "name": "python",
   "nbconvert_exporter": "python",
   "pygments_lexer": "ipython3",
   "version": "3.12.6"
  }
 },
 "nbformat": 4,
 "nbformat_minor": 2
}
